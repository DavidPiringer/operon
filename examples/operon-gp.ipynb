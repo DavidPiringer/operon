{
 "cells": [
  {
   "cell_type": "markdown",
   "metadata": {},
   "source": [
    "# Import stuff"
   ]
  },
  {
   "cell_type": "code",
   "execution_count": 1,
   "metadata": {},
   "outputs": [],
   "source": [
    "import numpy as np\n",
    "import pandas as pd\n",
    "import random\n",
    "import time\n",
    "import matplotlib.pyplot as plt\n",
    "import seaborn as sns\n",
    "sns.set(context='notebook', style='whitegrid', font_scale=1.5)\n",
    "from scipy import stats\n",
    "import sys\n",
    "\n",
    "from ipywidgets import IntProgress, FloatProgress, Output\n",
    "from IPython.display import display, Markdown\n",
    "\n",
    "# operon python bindings\n",
    "import pyoperon as Operon"
   ]
  },
  {
   "cell_type": "markdown",
   "metadata": {},
   "source": [
    "# Load some data"
   ]
  },
  {
   "cell_type": "code",
   "execution_count": 2,
   "metadata": {},
   "outputs": [],
   "source": [
    "ds = Operon.Dataset('../data/Poly-10.csv', has_header=True)\n",
    "training_range = Operon.Range(0, ds.Rows // 2)\n",
    "test_range = Operon.Range(training_range.End, ds.Rows)\n",
    "\n",
    "target = ds.GetVariable('Y')\n",
    "y_train = ds.Values[0:training_range.End, target.Index]\n",
    "\n",
    "inputs = Operon.VariableCollection(v for v in ds.Variables if v.Name != target.Name)"
   ]
  },
  {
   "cell_type": "markdown",
   "metadata": {},
   "source": [
    "# Set up algorithm parameters"
   ]
  },
  {
   "cell_type": "code",
   "execution_count": 3,
   "metadata": {},
   "outputs": [],
   "source": [
    "grammar = Operon.Grammar()\n",
    "grammar.SetConfig(Operon.Grammar.Arithmetic | Operon.NodeType.Exp | Operon.NodeType.Log | Operon.NodeType.Sin | Operon.NodeType.Cos)\n",
    "\n",
    "rng = Operon.RomuTrio(random.randint(1, 100000))\n",
    "btc = Operon.BalancedTreeCreator(grammar, inputs, bias=0.0)\n",
    "\n",
    "population_size = 1000\n",
    "min_length, max_length = 1, 50\n",
    "min_depth, max_depth = 1, 10\n",
    "p_crossover = 1.0\n",
    "p_mutation  = 0.25\n",
    "p_internal = 0.9 # for crossover\n",
    "initial_lengths = np.random.randint(min_length, max_length+1, population_size)\n",
    "max_generations = 1000"
   ]
  },
  {
   "cell_type": "markdown",
   "metadata": {},
   "source": [
    "# Set up genetic operators"
   ]
  },
  {
   "cell_type": "code",
   "execution_count": 4,
   "metadata": {},
   "outputs": [],
   "source": [
    "crossover = Operon.SubtreeCrossover(p_internal, max_depth, max_length)\n",
    "mut_onepoint = Operon.OnePointMutation()\n",
    "mut_changeVar = Operon.ChangeVariableMutation(inputs)\n",
    "mut_changeFunc = Operon.ChangeFunctionMutation(grammar)\n",
    "mut_replace = Operon.ReplaceSubtreeMutation(btc, max_length, max_depth)\n",
    "mutation = [ mut_onepoint, mut_changeFunc, mut_replace, mut_changeVar ]\n",
    "\n",
    "def calculate_fitness(ind):\n",
    "    y_pred = Operon.Evaluate(ind, ds, training_range)\n",
    "    return Operon.RSquared(y_train, y_pred)\n",
    "    \n",
    "def select_tournament():\n",
    "    i = random.randrange(population_size)\n",
    "    for _ in range(1, 5):\n",
    "        j = random.randrange(population_size)\n",
    "        if fit[i] < fit[j]:\n",
    "             i = j\n",
    "    return i\n",
    "\n",
    "def recombination():\n",
    "    do_crossover = random.uniform(0, 1) < p_crossover\n",
    "    do_mutation = random.uniform(0, 1) < p_mutation\n",
    "    \n",
    "    p1 = pop[select_tournament()]\n",
    "    \n",
    "    if do_crossover:\n",
    "        p2 = pop[select_tournament()]\n",
    "        child = crossover(rng, p1, p2)\n",
    "    \n",
    "    if do_mutation:\n",
    "        op = random.choice(mutation)\n",
    "        p1 = child if do_crossover else p1\n",
    "        child = op(rng, child)\n",
    "        \n",
    "    return child if do_crossover or do_mutation else p1"
   ]
  },
  {
   "cell_type": "markdown",
   "metadata": {},
   "source": [
    "# Run GP"
   ]
  },
  {
   "cell_type": "code",
   "execution_count": 5,
   "metadata": {},
   "outputs": [
    {
     "data": {
      "application/vnd.jupyter.widget-view+json": {
       "model_id": "1addfb289ab34e2ea7232e24460627b8",
       "version_major": 2,
       "version_minor": 0
      },
      "text/plain": [
       "IntProgress(value=0, description='Evolution: ', max=1000)"
      ]
     },
     "metadata": {},
     "output_type": "display_data"
    },
    {
     "data": {
      "application/vnd.jupyter.widget-view+json": {
       "model_id": "bea5539bb5394d59831c56071ae62c0e",
       "version_major": 2,
       "version_minor": 0
      },
      "text/plain": [
       "FloatProgress(value=0.0, description='Fitness: ', max=1.0)"
      ]
     },
     "metadata": {},
     "output_type": "display_data"
    },
    {
     "name": "stdout",
     "output_type": "stream",
     "text": [
      "\n",
      " best quality: 1.000000 elapsed: 15.0 seconds\n"
     ]
    }
   ],
   "source": [
    "pop = [btc(rng, length, 0, 0) for length in initial_lengths]\n",
    "fit = [calculate_fitness(t) for t in pop]\n",
    "idx = range(0, population_size)\n",
    "arg_best = np.argmax(fit)\n",
    "\n",
    "prog = IntProgress(min=0, max=max_generations, description='Evolution: ') # instantiate the bar\n",
    "display(prog)\n",
    "qual = FloatProgress(min=0, max=1.0, description='Fitness: ')\n",
    "display(qual)\n",
    "\n",
    "t0 = time.time()\n",
    "for gen in range(max_generations+1):\n",
    "    pop = [recombination() if i != arg_best else pop[arg_best] for i in idx ]\n",
    "    fit = [calculate_fitness(pop[i]) if i != arg_best else fit[arg_best] for i in idx ]\n",
    "    arg_best = np.argmax(fit)\n",
    "    prog.value += 1\n",
    "    qual.value = fit[arg_best]\n",
    "      \n",
    "        \n",
    "t1 = time.time()\n",
    "\n",
    "print(f'\\n best quality: {fit[arg_best]:.6f} elapsed: {t1-t0:.1f} seconds')"
   ]
  },
  {
   "cell_type": "code",
   "execution_count": null,
   "metadata": {},
   "outputs": [
    {
     "data": {
      "text/markdown": [
       "### Model"
      ],
      "text/plain": [
       "<IPython.core.display.Markdown object>"
      ]
     },
     "metadata": {},
     "output_type": "display_data"
    }
   ],
   "source": [
    "infix = Operon.InfixFormatter.Format(pop[arg_best], ds, 6)\n",
    "\n",
    "import sympy as sy\n",
    "from sympy.parsing.sympy_parser import parse_expr\n",
    "from sympy import simplify\n",
    "\n",
    "sy.init_printing(use_unicode=True)\n",
    "\n",
    "expr = parse_expr(infix)\n",
    "display(Markdown('### Model'))\n",
    "display(expr)\n",
    "\n",
    "display(Markdown('### Simplified model'))\n",
    "simplified = simplify(expr)\n",
    "display(simplified)"
   ]
  },
  {
   "cell_type": "markdown",
   "metadata": {},
   "source": [
    "# Visualize the results"
   ]
  },
  {
   "cell_type": "code",
   "execution_count": null,
   "metadata": {},
   "outputs": [],
   "source": [
    "xs = range(0, ds.Rows)\n",
    "y_target = ds.Values[0:ds.Rows, target.Index]\n",
    "\n",
    "y_pred = Operon.Evaluate(pop[arg_best], ds, Operon.Range(0, ds.Rows))\n",
    "from sklearn.linear_model import LinearRegression\n",
    "lr = LinearRegression().fit(y_pred.reshape(500, 1), y_target)\n",
    "y_scaled = lr.coef_ * y_pred + lr.intercept_\n",
    "\n",
    "fig, axes = plt.subplots(nrows=2, ncols=1, figsize=(20,10))\n",
    "\n",
    "ax = axes[0]\n",
    "sns.lineplot(ax=ax, x=xs[training_range.Start:training_range.End], y=y_target[training_range.Start:training_range.End], label='Actual')\n",
    "sns.lineplot(ax=ax, x=xs[training_range.Start:training_range.End], y=y_scaled[training_range.Start:training_range.End], label='Estimated')\n",
    "ax.set(xlabel='Row', ylabel='Target / Estimated', title='Training')\n",
    "ax.set_xlim(training_range.Start, training_range.End)\n",
    "\n",
    "ax = axes[1]\n",
    "sns.lineplot(ax=ax, x=xs[test_range.Start:test_range.End], y=y_target[test_range.Start:test_range.End], label='Actual')\n",
    "sns.lineplot(ax=ax, x=xs[test_range.Start:test_range.End], y=y_scaled[test_range.Start:test_range.End], label='Estimated')\n",
    "ax.set(xlabel='Row', ylabel='Target / Estimated', title='Test')\n",
    "ax.set_xlim(test_range.Start, test_range.End)\n",
    "\n",
    "plt.tight_layout()"
   ]
  }
 ],
 "metadata": {
  "celltoolbar": "Raw Cell Format",
  "kernelspec": {
   "display_name": "Python 3",
   "language": "python",
   "name": "python3"
  },
  "language_info": {
   "codemirror_mode": {
    "name": "ipython",
    "version": 3
   },
   "file_extension": ".py",
   "mimetype": "text/x-python",
   "name": "python",
   "nbconvert_exporter": "python",
   "pygments_lexer": "ipython3",
   "version": "3.8.5"
  }
 },
 "nbformat": 4,
 "nbformat_minor": 4
}
